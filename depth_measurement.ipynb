{
 "cells": [
  {
   "cell_type": "markdown",
   "metadata": {},
   "source": [
    "# Import Libraries and Define Functions and Constants"
   ]
  },
  {
   "cell_type": "code",
   "execution_count": 2,
   "metadata": {},
   "outputs": [
    {
     "name": "stdout",
     "output_type": "stream",
     "text": [
      "inches: 592.5185\n",
      "feet: 49\n",
      "remaining inches: 4.518500000000017\n",
      "remaining_fraction: 0.5185000000000173\n",
      "fraction: 1/2\n",
      "TEST MEASUREMENTS: 49' 4\" 1/2\n"
     ]
    }
   ],
   "source": [
    "import pyzed.sl as sl\n",
    "import math\n",
    "import numpy as np\n",
    "import sys\n",
    "import math\n",
    "import cv2\n",
    "import fractions\n",
    "mm_to_ft = 0.00328084\n",
    "\n",
    "\n",
    "def getMousePos(image):\n",
    "    def onMouse(event, x, y, flags, param):\n",
    "        if event == cv2.EVENT_LBUTTONDOWN:\n",
    "            param['x'] = x\n",
    "            param['y'] = y\n",
    "            param['event'] = event\n",
    "\n",
    "    param = {'x': -1, 'y': -1, 'event': -1}\n",
    "    cv2.namedWindow(\"Image\")\n",
    "    cv2.setMouseCallback(\"Image\", onMouse, param)\n",
    "    cv2.imshow(\"Image\", image)\n",
    "\n",
    "    while param['event'] != cv2.EVENT_LBUTTONDOWN:\n",
    "        cv2.waitKey(10)\n",
    "    \n",
    "    cv2.destroyWindow(\"Image\")\n",
    "\n",
    "    return param['x'], param['y']\n",
    "\n",
    "def mm_to_feet_inches_fractions(mm):\n",
    "    # Convert mm to inches\n",
    "    inches = mm * 0.03937\n",
    "    print(f\"inches: {inches}\")\n",
    "    # Calculate feet and remaining inches\n",
    "    feet = int(inches // 12)\n",
    "    print(f\"feet: {feet}\")\n",
    "    remaining_inches = inches % 12\n",
    "    print(f\"remaining inches: {remaining_inches}\")\n",
    "\n",
    "    # Convert remaining inches to fractions\n",
    "    remaining_distance = remaining_inches - int(remaining_inches)\n",
    "    print(f\"remaining_fraction: {remaining_distance}\")\n",
    "\n",
    "    fraction = fractions.Fraction(remaining_distance).limit_denominator(8)\n",
    "    print(f\"fraction: {fraction}\")\n",
    "    \n",
    "    # Format the result\n",
    "    result = f\"{feet}' {int(remaining_inches)}\\\" {fraction}\"\n",
    "    return result\n",
    "\n",
    "print(f\"TEST MEASUREMENTS: {mm_to_feet_inches_fractions(15050)}\")\n"
   ]
  },
  {
   "cell_type": "markdown",
   "metadata": {},
   "source": [
    "# Define Functions and Constants"
   ]
  },
  {
   "cell_type": "markdown",
   "metadata": {},
   "source": [
    "# Setup Camera"
   ]
  },
  {
   "cell_type": "markdown",
   "metadata": {},
   "source": [
    "# Main"
   ]
  },
  {
   "cell_type": "code",
   "execution_count": 4,
   "metadata": {},
   "outputs": [
    {
     "name": "stdout",
     "output_type": "stream",
     "text": [
      "Camera Open : CAMERA NOT DETECTED. Exit program.\n"
     ]
    },
    {
     "ename": "",
     "evalue": "",
     "output_type": "error",
     "traceback": [
      "\u001b[1;31mThe Kernel crashed while executing code in the current cell or a previous cell. \n",
      "\u001b[1;31mPlease review the code in the cell(s) to identify a possible cause of the failure. \n",
      "\u001b[1;31mClick <a href='https://aka.ms/vscodeJupyterKernelCrash'>here</a> for more info. \n",
      "\u001b[1;31mView Jupyter <a href='command:jupyter.viewOutput'>log</a> for further details."
     ]
    }
   ],
   "source": [
    "# Create a Camera object\n",
    "zed = sl.Camera()\n",
    "\n",
    "# Create a InitParameters object and set configuration parameters\n",
    "init_params = sl.InitParameters()\n",
    "init_params.depth_mode = sl.DEPTH_MODE.ULTRA  # Use ULTRA depth mode\n",
    "init_params.coordinate_units = sl.UNIT.MILLIMETER  # Use meter units (for depth measurements)\n",
    "\n",
    "\n",
    "\n",
    "# Create a matrix to store image, depth, point cloud\n",
    "image = sl.Mat()\n",
    "depth = sl.Mat()\n",
    "point_cloud = sl.Mat()\n",
    "\n",
    "# Create a reference to the mirror (IDK WHAT THIS MEANS)\n",
    "mirror_ref = sl.Transform()\n",
    "mirror_ref.set_translation(sl.Translation(2.75,4.0,0))\n",
    "# Open the camera\n",
    "status = zed.open(init_params)\n",
    "if status != sl.ERROR_CODE.SUCCESS: #Ensure the camera has opened succesfully\n",
    "    print(\"Camera Open : \"+repr(status)+\". Exit program.\")\n",
    "    exit()\n",
    "\n",
    "# Create and set RuntimeParameters after opening the camera\n",
    "runtime_parameters = sl.RuntimeParameters()\n",
    "# A new image is available if grab() returns SUCCESS\n",
    "if zed.grab(runtime_parameters) == sl.ERROR_CODE.SUCCESS:\n",
    "    # Retrieve left image\n",
    "    zed.retrieve_image(image, sl.VIEW.LEFT)\n",
    "    # Retrieve depth map. Depth is aligned on the left image\n",
    "    zed.retrieve_measure(depth, sl.MEASURE.DEPTH)\n",
    "    # Retrieve colored point cloud. Point cloud is aligned on the left image.\n",
    "    zed.retrieve_measure(point_cloud, sl.MEASURE.XYZRGBA)\n",
    "\n",
    "    # Get and print distance value in mm at the center of the image\n",
    "    # We measure the distance camera - object using Euclidean distance\n",
    "    # x = round(image.get_width() / 2)\n",
    "    # y = round(image.get_height() / 2)\n",
    "\n",
    "    # choose a point in the image\n",
    "    x, y = getMousePos(image.get_data())\n",
    "\n",
    "    err, point_cloud_value = point_cloud.get_value(x, y)\n",
    "    # print(f\"Point cloud value at {{{x};{y}}}: {point_cloud_value}\")\n",
    "    print(f\"Depth value at {{{x};{y}}}: {depth.get_value(x, y)}\")\n",
    "    # print(f\"Depth Measurement at {{{x};{y}}}: {mm_to_feet_inches_fractions(depth.get_value(x, y))}\")\n",
    "    \n",
    "    if math.isfinite(point_cloud_value[2]):\n",
    "        distance = math.sqrt(point_cloud_value[0] * point_cloud_value[0] +\n",
    "                            point_cloud_value[1] * point_cloud_value[1] +\n",
    "                            point_cloud_value[2] * point_cloud_value[2])\n",
    "        print(f\"Distance to Camera at {{{x};{y}}}: {distance} mm\")\n",
    "        distance_fractional = mm_to_feet_inches_fractions(float(distance))\n",
    "        print(f\"Distance to Camera at {{{x};{y}}}: {distance_fractional} ft\")\n",
    "    else : \n",
    "        print(f\"The distance can not be computed at {{{x};{y}}}\")  \n",
    "    \n",
    "\n",
    "# Close the camera\n",
    "zed.close()"
   ]
  }
 ],
 "metadata": {
  "kernelspec": {
   "display_name": "ZED_env",
   "language": "python",
   "name": "python3"
  },
  "language_info": {
   "codemirror_mode": {
    "name": "ipython",
    "version": 3
   },
   "file_extension": ".py",
   "mimetype": "text/x-python",
   "name": "python",
   "nbconvert_exporter": "python",
   "pygments_lexer": "ipython3",
   "version": "3.11.8"
  }
 },
 "nbformat": 4,
 "nbformat_minor": 2
}
